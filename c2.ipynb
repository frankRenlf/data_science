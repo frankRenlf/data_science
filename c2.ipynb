{
 "cells": [
  {
   "cell_type": "code",
   "execution_count": 21,
   "metadata": {
    "ExecuteTime": {
     "end_time": "2023-06-27T07:43:36.542563Z",
     "start_time": "2023-06-27T07:43:36.504998Z"
    }
   },
   "outputs": [],
   "source": [
    "import matplotlib.pyplot as plt\n",
    "import numpy as np\n",
    "%matplotlib qt5\n",
    "\n",
    "plt.figure()\n",
    "x1 = np.linspace(-5, 5, 50)\n",
    "y1 = 2 * x1 + 1\n",
    "plt.plot(x1, y1)\n",
    "\n",
    "x2 = np.linspace(-5, 5, 50)\n",
    "y2 = x2 ** 2\n",
    "plt.plot(x2, y2)\n",
    "\n",
    "plt.xlim((-3, 3))\n",
    "plt.ylim((-3, 3))\n",
    "\n",
    "plt.xlabel('x axis')\n",
    "plt.ylabel('y axis')\n",
    "\n",
    "new_ticks = np.linspace(-4, 4, 5)\n",
    "plt.xticks(new_ticks)\n",
    "plt.yticks(new_ticks, ['a', 'b', 'c', 'd', 'e'])\n",
    "ax = plt.gca()\n",
    "ax.spines['right'].set_color('None')\n",
    "ax.spines['top'].set_color('None')\n",
    "\n",
    "ax.xaxis.set_ticks_position('bottom')\n",
    "ax.yaxis.set_ticks_position('left')\n",
    "\n",
    "ax.spines['bottom'].set_position(('data', 1))\n",
    "ax.spines['left'].set_position(('data', 0))\n",
    "\n",
    "plt.show()\n",
    "\n"
   ]
  },
  {
   "cell_type": "code",
   "execution_count": 1,
   "metadata": {
    "ExecuteTime": {
     "end_time": "2023-06-27T07:16:15.841819Z",
     "start_time": "2023-06-27T07:16:15.832922Z"
    }
   },
   "outputs": [],
   "source": []
  }
 ],
 "metadata": {
  "kernelspec": {
   "display_name": "machine_learning",
   "language": "python",
   "name": "machine_learning"
  },
  "language_info": {
   "codemirror_mode": {
    "name": "ipython",
    "version": 3
   },
   "file_extension": ".py",
   "mimetype": "text/x-python",
   "name": "python",
   "nbconvert_exporter": "python",
   "pygments_lexer": "ipython3",
   "version": "3.10.11"
  }
 },
 "nbformat": 4,
 "nbformat_minor": 1
}
