{
 "cells": [
  {
   "cell_type": "code",
   "execution_count": 20,
   "metadata": {
    "ExecuteTime": {
     "end_time": "2023-06-27T07:41:02.042562Z",
     "start_time": "2023-06-27T07:41:01.972479Z"
    }
   },
   "outputs": [
    {
     "ename": "ValueError",
     "evalue": "'bm' is not a valid value for position; supported values are 'top', 'bottom', 'both', 'default', 'none'",
     "output_type": "error",
     "traceback": [
      "\u001B[0;31m---------------------------------------------------------------------------\u001B[0m",
      "\u001B[0;31mValueError\u001B[0m                                Traceback (most recent call last)",
      "Cell \u001B[0;32mIn[20], line 27\u001B[0m\n\u001B[1;32m     24\u001B[0m ax\u001B[38;5;241m.\u001B[39mspines[\u001B[38;5;124m'\u001B[39m\u001B[38;5;124mright\u001B[39m\u001B[38;5;124m'\u001B[39m]\u001B[38;5;241m.\u001B[39mset_color(\u001B[38;5;124m'\u001B[39m\u001B[38;5;124mNone\u001B[39m\u001B[38;5;124m'\u001B[39m)\n\u001B[1;32m     25\u001B[0m ax\u001B[38;5;241m.\u001B[39mspines[\u001B[38;5;124m'\u001B[39m\u001B[38;5;124mtop\u001B[39m\u001B[38;5;124m'\u001B[39m]\u001B[38;5;241m.\u001B[39mset_color(\u001B[38;5;124m'\u001B[39m\u001B[38;5;124mNone\u001B[39m\u001B[38;5;124m'\u001B[39m)\n\u001B[0;32m---> 27\u001B[0m \u001B[43max\u001B[49m\u001B[38;5;241;43m.\u001B[39;49m\u001B[43mxaxis\u001B[49m\u001B[38;5;241;43m.\u001B[39;49m\u001B[43mset_ticks_position\u001B[49m\u001B[43m(\u001B[49m\u001B[38;5;124;43m'\u001B[39;49m\u001B[38;5;124;43mbm\u001B[39;49m\u001B[38;5;124;43m'\u001B[39;49m\u001B[43m)\u001B[49m\n\u001B[1;32m     28\u001B[0m ax\u001B[38;5;241m.\u001B[39myaxis\u001B[38;5;241m.\u001B[39mset_ticks_position(\u001B[38;5;124m'\u001B[39m\u001B[38;5;124mleft\u001B[39m\u001B[38;5;124m'\u001B[39m)\n\u001B[1;32m     30\u001B[0m ax\u001B[38;5;241m.\u001B[39mspines[\u001B[38;5;124m'\u001B[39m\u001B[38;5;124mbm\u001B[39m\u001B[38;5;124m'\u001B[39m]\u001B[38;5;241m.\u001B[39mset_position((\u001B[38;5;124m'\u001B[39m\u001B[38;5;124mdata\u001B[39m\u001B[38;5;124m'\u001B[39m, \u001B[38;5;241m1\u001B[39m))\n",
      "File \u001B[0;32m~/anaconda3/envs/machine_learning/lib/python3.10/site-packages/matplotlib/axis.py:2394\u001B[0m, in \u001B[0;36mXAxis.set_ticks_position\u001B[0;34m(self, position)\u001B[0m\n\u001B[1;32m   2381\u001B[0m \u001B[38;5;28;01mdef\u001B[39;00m \u001B[38;5;21mset_ticks_position\u001B[39m(\u001B[38;5;28mself\u001B[39m, position):\n\u001B[1;32m   2382\u001B[0m \u001B[38;5;250m    \u001B[39m\u001B[38;5;124;03m\"\"\"\u001B[39;00m\n\u001B[1;32m   2383\u001B[0m \u001B[38;5;124;03m    Set the ticks position.\u001B[39;00m\n\u001B[1;32m   2384\u001B[0m \n\u001B[0;32m   (...)\u001B[0m\n\u001B[1;32m   2392\u001B[0m \u001B[38;5;124;03m        affect only the ticks, not the labels.\u001B[39;00m\n\u001B[1;32m   2393\u001B[0m \u001B[38;5;124;03m    \"\"\"\u001B[39;00m\n\u001B[0;32m-> 2394\u001B[0m     \u001B[43m_api\u001B[49m\u001B[38;5;241;43m.\u001B[39;49m\u001B[43mcheck_in_list\u001B[49m\u001B[43m(\u001B[49m\u001B[43m[\u001B[49m\u001B[38;5;124;43m'\u001B[39;49m\u001B[38;5;124;43mtop\u001B[39;49m\u001B[38;5;124;43m'\u001B[39;49m\u001B[43m,\u001B[49m\u001B[43m \u001B[49m\u001B[38;5;124;43m'\u001B[39;49m\u001B[38;5;124;43mbottom\u001B[39;49m\u001B[38;5;124;43m'\u001B[39;49m\u001B[43m,\u001B[49m\u001B[43m \u001B[49m\u001B[38;5;124;43m'\u001B[39;49m\u001B[38;5;124;43mboth\u001B[39;49m\u001B[38;5;124;43m'\u001B[39;49m\u001B[43m,\u001B[49m\u001B[43m \u001B[49m\u001B[38;5;124;43m'\u001B[39;49m\u001B[38;5;124;43mdefault\u001B[39;49m\u001B[38;5;124;43m'\u001B[39;49m\u001B[43m,\u001B[49m\u001B[43m \u001B[49m\u001B[38;5;124;43m'\u001B[39;49m\u001B[38;5;124;43mnone\u001B[39;49m\u001B[38;5;124;43m'\u001B[39;49m\u001B[43m]\u001B[49m\u001B[43m,\u001B[49m\n\u001B[1;32m   2395\u001B[0m \u001B[43m                       \u001B[49m\u001B[43mposition\u001B[49m\u001B[38;5;241;43m=\u001B[39;49m\u001B[43mposition\u001B[49m\u001B[43m)\u001B[49m\n\u001B[1;32m   2396\u001B[0m     \u001B[38;5;28;01mif\u001B[39;00m position \u001B[38;5;241m==\u001B[39m \u001B[38;5;124m'\u001B[39m\u001B[38;5;124mtop\u001B[39m\u001B[38;5;124m'\u001B[39m:\n\u001B[1;32m   2397\u001B[0m         \u001B[38;5;28mself\u001B[39m\u001B[38;5;241m.\u001B[39mset_tick_params(which\u001B[38;5;241m=\u001B[39m\u001B[38;5;124m'\u001B[39m\u001B[38;5;124mboth\u001B[39m\u001B[38;5;124m'\u001B[39m, top\u001B[38;5;241m=\u001B[39m\u001B[38;5;28;01mTrue\u001B[39;00m, labeltop\u001B[38;5;241m=\u001B[39m\u001B[38;5;28;01mTrue\u001B[39;00m,\n\u001B[1;32m   2398\u001B[0m                              bottom\u001B[38;5;241m=\u001B[39m\u001B[38;5;28;01mFalse\u001B[39;00m, labelbottom\u001B[38;5;241m=\u001B[39m\u001B[38;5;28;01mFalse\u001B[39;00m)\n",
      "File \u001B[0;32m~/anaconda3/envs/machine_learning/lib/python3.10/site-packages/matplotlib/_api/__init__.py:131\u001B[0m, in \u001B[0;36mcheck_in_list\u001B[0;34m(_values, _print_supported_values, **kwargs)\u001B[0m\n\u001B[1;32m    129\u001B[0m \u001B[38;5;28;01mif\u001B[39;00m _print_supported_values:\n\u001B[1;32m    130\u001B[0m     msg \u001B[38;5;241m+\u001B[39m\u001B[38;5;241m=\u001B[39m \u001B[38;5;124mf\u001B[39m\u001B[38;5;124m\"\u001B[39m\u001B[38;5;124m; supported values are \u001B[39m\u001B[38;5;132;01m{\u001B[39;00m\u001B[38;5;124m'\u001B[39m\u001B[38;5;124m, \u001B[39m\u001B[38;5;124m'\u001B[39m\u001B[38;5;241m.\u001B[39mjoin(\u001B[38;5;28mmap\u001B[39m(\u001B[38;5;28mrepr\u001B[39m,\u001B[38;5;250m \u001B[39mvalues))\u001B[38;5;132;01m}\u001B[39;00m\u001B[38;5;124m\"\u001B[39m\n\u001B[0;32m--> 131\u001B[0m \u001B[38;5;28;01mraise\u001B[39;00m \u001B[38;5;167;01mValueError\u001B[39;00m(msg)\n",
      "\u001B[0;31mValueError\u001B[0m: 'bm' is not a valid value for position; supported values are 'top', 'bottom', 'both', 'default', 'none'"
     ]
    }
   ],
   "source": [
    "import matplotlib.pyplot as plt\n",
    "import numpy as np\n",
    "%matplotlib qt5\n",
    "\n",
    "plt.figure()\n",
    "x1 = np.linspace(-5, 5, 50)\n",
    "y1 = 2 * x1 + 1\n",
    "plt.plot(x1, y1)\n",
    "\n",
    "x2 = np.linspace(-5, 5, 50)\n",
    "y2 = x2 ** 2\n",
    "plt.plot(x2, y2)\n",
    "\n",
    "plt.xlim((-3, 3))\n",
    "plt.ylim((-3, 3))\n",
    "\n",
    "plt.xlabel('x axis')\n",
    "plt.ylabel('y axis')\n",
    "\n",
    "new_ticks = np.linspace(-4, 4, 5)\n",
    "plt.xticks(new_ticks)\n",
    "plt.yticks(new_ticks, ['a', 'b', 'c', 'd', 'e'])\n",
    "ax = plt.gca()\n",
    "ax.spines['right'].set_color('None')\n",
    "ax.spines['top'].set_color('None')\n",
    "\n",
    "ax.xaxis.set_ticks_position('bottom')\n",
    "ax.yaxis.set_ticks_position('left')\n",
    "\n",
    "ax.spines['bottom'].set_position(('data', 1))\n",
    "ax.spines['left'].set_position(('data', 0))\n",
    "\n",
    "plt.show()\n",
    "\n"
   ]
  },
  {
   "cell_type": "code",
   "execution_count": 1,
   "metadata": {
    "ExecuteTime": {
     "end_time": "2023-06-27T07:16:15.841819Z",
     "start_time": "2023-06-27T07:16:15.832922Z"
    }
   },
   "outputs": [],
   "source": []
  }
 ],
 "metadata": {
  "kernelspec": {
   "display_name": "machine_learning",
   "language": "python",
   "name": "machine_learning"
  },
  "language_info": {
   "codemirror_mode": {
    "name": "ipython",
    "version": 3
   },
   "file_extension": ".py",
   "mimetype": "text/x-python",
   "name": "python",
   "nbconvert_exporter": "python",
   "pygments_lexer": "ipython3",
   "version": "3.10.11"
  }
 },
 "nbformat": 4,
 "nbformat_minor": 1
}
