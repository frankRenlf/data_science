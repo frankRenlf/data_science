{
 "cells": [
  {
   "cell_type": "code",
   "execution_count": 35,
   "metadata": {
    "collapsed": true,
    "ExecuteTime": {
     "end_time": "2023-07-11T07:42:01.519460Z",
     "start_time": "2023-07-11T07:42:01.514285Z"
    }
   },
   "outputs": [],
   "source": [
    "import csv\n",
    "import json\n",
    "from datetime import datetime\n",
    "import matplotlib.pyplot as plt\n",
    "import numpy as np\n",
    "# import matplotlib.dates as mdate\n",
    "# import pandas as pd\n",
    "#\n",
    "# %matplotlib qt5"
   ]
  },
  {
   "cell_type": "code",
   "execution_count": 77,
   "outputs": [],
   "source": [
    "from pygal_maps_world.i18n import COUNTRIES\n",
    "from pygal_maps_world import i18n\n",
    "import pygal_maps_world\n",
    "\n",
    "file = '../dataset/population_data.json'\n",
    "\n",
    "\n",
    "def get_country_code(country_name):\n",
    "    \"\"\"根据指定的国家，返回Pygal使用的两个字母的国别码\"\"\"\n",
    "    for code, name in COUNTRIES.items():\n",
    "        if name == country_name:\n",
    "            return code\n",
    "        # 如果没有找到指定的国家，就返回None\n",
    "    return None\n"
   ],
   "metadata": {
    "collapsed": false,
    "ExecuteTime": {
     "end_time": "2023-07-11T08:08:42.961196Z",
     "start_time": "2023-07-11T08:08:42.956818Z"
    }
   }
  },
  {
   "cell_type": "code",
   "execution_count": 69,
   "outputs": [],
   "source": [
    "def json_handle(filename):\n",
    "    with open(filename) as f:\n",
    "        pop_data = json.load(f)\n",
    "    for pop_dict in pop_data:\n",
    "        if pop_dict['Year'] == '2010':\n",
    "            country_name = pop_dict['Country Name']\n",
    "            population = int(float(pop_dict['Value']))\n",
    "            code = get_country_code(country_name)\n",
    "            if code:\n",
    "                print(code + \": \" + str(population))\n",
    "            # else:\n",
    "            #     print('ERROR - ' + country_name)"
   ],
   "metadata": {
    "collapsed": false,
    "ExecuteTime": {
     "end_time": "2023-07-11T07:58:30.251776Z",
     "start_time": "2023-07-11T07:58:30.248653Z"
    }
   }
  },
  {
   "cell_type": "code",
   "execution_count": 70,
   "outputs": [
    {
     "name": "stdout",
     "output_type": "stream",
     "text": [
      "af: 34385000\n",
      "al: 3205000\n",
      "dz: 35468000\n",
      "ad: 84864\n",
      "ao: 19082000\n",
      "ar: 40412000\n",
      "am: 3092000\n",
      "au: 22299000\n",
      "at: 8390000\n",
      "az: 9054000\n",
      "bh: 1262000\n",
      "bd: 148692000\n",
      "by: 9490000\n",
      "be: 10896000\n",
      "bz: 345000\n",
      "bj: 8850000\n",
      "bt: 726000\n",
      "ba: 3760000\n",
      "bw: 2007000\n",
      "br: 194946000\n",
      "bn: 399000\n",
      "bg: 7534000\n",
      "bf: 16468000\n",
      "bi: 8382000\n",
      "kh: 14139000\n",
      "cm: 19599000\n",
      "ca: 34126000\n",
      "cv: 496000\n",
      "cf: 4401000\n",
      "td: 11227000\n",
      "cl: 17113688\n",
      "cn: 1338300000\n",
      "co: 46295000\n",
      "cr: 4659000\n",
      "ci: 19738000\n",
      "hr: 4418000\n",
      "cu: 11258000\n",
      "cy: 1103000\n",
      "cz: 10520000\n",
      "dk: 5547000\n",
      "dj: 889000\n",
      "do: 9927000\n",
      "ec: 14465000\n",
      "sv: 6193000\n",
      "gq: 700000\n",
      "er: 5254000\n",
      "ee: 1340000\n",
      "et: 82950000\n",
      "fi: 5364000\n",
      "fr: 64895000\n",
      "ga: 1505000\n",
      "ge: 4452000\n",
      "de: 81777000\n",
      "gh: 24392000\n",
      "gr: 11316000\n",
      "gl: 56534\n",
      "gu: 179000\n",
      "gt: 14389000\n",
      "gn: 9982000\n",
      "gw: 1515000\n",
      "gy: 755000\n",
      "ht: 9993000\n",
      "hn: 7600000\n",
      "hu: 10000000\n",
      "is: 318000\n",
      "in: 1224615000\n",
      "id: 239870000\n",
      "iq: 32031000\n",
      "ie: 4475000\n",
      "il: 7624000\n",
      "it: 60483000\n",
      "jm: 2702000\n",
      "jp: 127451000\n",
      "jo: 6047000\n",
      "kz: 16323000\n",
      "ke: 40513000\n",
      "kw: 2736000\n",
      "lv: 2239000\n",
      "lb: 4227000\n",
      "ls: 2171000\n",
      "lr: 3994000\n",
      "li: 36032\n",
      "lt: 3287000\n",
      "lu: 507000\n",
      "mg: 20714000\n",
      "mw: 14901000\n",
      "my: 28401000\n",
      "mv: 316000\n",
      "ml: 15370000\n",
      "mt: 416000\n",
      "mr: 3460000\n",
      "mu: 1281000\n",
      "yt: 204000\n",
      "mx: 113423000\n",
      "mc: 35407\n",
      "mn: 2756000\n",
      "me: 632000\n",
      "ma: 31951000\n",
      "mz: 23390000\n",
      "mm: 47963000\n",
      "na: 2283000\n",
      "np: 29959000\n",
      "nl: 16616000\n",
      "nz: 4368000\n",
      "ni: 5789000\n",
      "ne: 15512000\n",
      "ng: 158423000\n",
      "no: 4889000\n",
      "om: 2783000\n",
      "pk: 173593000\n",
      "pa: 3517000\n",
      "pg: 6858000\n",
      "py: 6454000\n",
      "pe: 29076000\n",
      "ph: 93261000\n",
      "pl: 38184000\n",
      "pt: 10638000\n",
      "pr: 3978000\n",
      "ro: 21438000\n",
      "ru: 141750000\n",
      "rw: 10624000\n",
      "sm: 31534\n",
      "st: 165000\n",
      "sa: 27448000\n",
      "sn: 12434000\n",
      "rs: 7291000\n",
      "sc: 87000\n",
      "sl: 5867000\n",
      "sg: 5077000\n",
      "si: 2049000\n",
      "so: 9331000\n",
      "za: 49991000\n",
      "es: 46071000\n",
      "lk: 20860000\n",
      "sd: 43552000\n",
      "sr: 525000\n",
      "sz: 1056000\n",
      "se: 9378000\n",
      "ch: 7826000\n",
      "sy: 20447000\n",
      "tj: 6879000\n",
      "th: 69122000\n",
      "tl: 1124000\n",
      "tg: 6028000\n",
      "tn: 10549000\n",
      "tr: 72752000\n",
      "tm: 5042000\n",
      "ug: 33424000\n",
      "ua: 45871000\n",
      "ae: 7512000\n",
      "gb: 62232000\n",
      "us: 309349000\n",
      "uy: 3357000\n",
      "uz: 28228000\n",
      "zm: 12927000\n",
      "zw: 12571000\n"
     ]
    }
   ],
   "source": [
    "json_handle('../dataset/population_data.json')"
   ],
   "metadata": {
    "collapsed": false,
    "ExecuteTime": {
     "end_time": "2023-07-11T07:58:30.685251Z",
     "start_time": "2023-07-11T07:58:30.671162Z"
    }
   }
  },
  {
   "cell_type": "code",
   "execution_count": 74,
   "outputs": [],
   "source": [
    "\n",
    "import pygal_maps_world.maps\n",
    "import pygal.style\n",
    "\n",
    "wm = pygal_maps_world.maps.World()\n",
    "wm.title = 'North, Central, and South America'\n",
    "\n",
    "wm.add('North America', ['ca', 'mx', 'us'])\n",
    "wm.add('Central America', ['bz', 'cr', 'gt', 'hn', 'ni', 'pa', 'sv'])\n",
    "wm.add('South America', ['ar', 'bo', 'br', 'cl', 'co', 'ec', 'gf', 'gy', 'pe', 'py', 'sr',\n",
    "                         'uy', 've'])\n",
    "wm.render_to_file('americas.svg')"
   ],
   "metadata": {
    "collapsed": false,
    "ExecuteTime": {
     "end_time": "2023-07-11T08:01:23.989260Z",
     "start_time": "2023-07-11T08:01:23.956332Z"
    }
   }
  },
  {
   "cell_type": "code",
   "execution_count": 92,
   "outputs": [],
   "source": [
    "from pygal.style import LightColorizedStyle as LCS, RotateStyle as RS\n",
    "\n",
    "\n",
    "def json_draw(filename):\n",
    "    with open(filename) as f:\n",
    "        pop_data = json.load(f)\n",
    "    cc_populations = {}\n",
    "    for pop_dict in pop_data:\n",
    "        if pop_dict['Year'] == '2010':\n",
    "            country = pop_dict['Country Name']\n",
    "            population = int(float(pop_dict['Value']))\n",
    "            code = get_country_code(country)\n",
    "            if code:\n",
    "                cc_populations[code] = population\n",
    "    # 根据人口数量将所有的国家分成三组\n",
    "    cc_pops_1, cc_pops_2, cc_pops_3 = {}, {}, {}\n",
    "    for cc, pop in cc_populations.items():\n",
    "        if pop < 10000000: cc_pops_1[cc] = pop\n",
    "        elif pop < 1000000000: cc_pops_2[cc] = pop\n",
    "        else:cc_pops_3[cc] = pop\n",
    "        # 看看每组分别包含多少个国家\n",
    "        # print(len(cc_pops_1), len(cc_pops_2), len(cc_pops_3))\n",
    "    wm_style = RS('#336699', base_style=LCS)\n",
    "    wm = pygal_maps_world.maps.World(style=wm_style)\n",
    "    # wm = pygal_maps_world.maps.World(style=wm_style)\n",
    "    wm.title = 'World Population in 2010, by Country'\n",
    "    wm.add('0-10m', cc_pops_1)\n",
    "    wm.add('10m-1bn', cc_pops_2)\n",
    "    wm.add('>1bn', cc_pops_3)\n",
    "    wm.render_to_file('world_population.svg')"
   ],
   "metadata": {
    "collapsed": false,
    "ExecuteTime": {
     "end_time": "2023-07-11T08:22:04.622233Z",
     "start_time": "2023-07-11T08:22:04.618745Z"
    }
   }
  },
  {
   "cell_type": "code",
   "execution_count": 93,
   "outputs": [],
   "source": [
    "json_draw(filename=file)"
   ],
   "metadata": {
    "collapsed": false,
    "ExecuteTime": {
     "end_time": "2023-07-11T08:22:05.126924Z",
     "start_time": "2023-07-11T08:22:05.031690Z"
    }
   }
  },
  {
   "cell_type": "code",
   "execution_count": null,
   "outputs": [],
   "source": [],
   "metadata": {
    "collapsed": false
   }
  }
 ],
 "metadata": {
  "kernelspec": {
   "display_name": "Python 3",
   "language": "python",
   "name": "python3"
  },
  "language_info": {
   "codemirror_mode": {
    "name": "ipython",
    "version": 2
   },
   "file_extension": ".py",
   "mimetype": "text/x-python",
   "name": "python",
   "nbconvert_exporter": "python",
   "pygments_lexer": "ipython2",
   "version": "2.7.6"
  }
 },
 "nbformat": 4,
 "nbformat_minor": 0
}
