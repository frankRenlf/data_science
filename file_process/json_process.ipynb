{
 "cells": [
  {
   "cell_type": "code",
   "execution_count": 35,
   "metadata": {
    "collapsed": true,
    "ExecuteTime": {
     "end_time": "2023-07-11T07:42:01.519460Z",
     "start_time": "2023-07-11T07:42:01.514285Z"
    }
   },
   "outputs": [],
   "source": [
    "import csv\n",
    "import json\n",
    "import traceback\n",
    "from datetime import datetime\n",
    "import matplotlib.pyplot as plt\n",
    "import numpy as np\n",
    "# import matplotlib.dates as mdate\n",
    "# import pandas as pd\n",
    "#\n",
    "# %matplotlib qt5"
   ]
  },
  {
   "cell_type": "code",
   "execution_count": 77,
   "outputs": [],
   "source": [
    "from pygal_maps_world.i18n import COUNTRIES\n",
    "from pygal_maps_world import i18n\n",
    "import pygal_maps_world\n",
    "\n",
    "file = '../dataset/population_data.json'\n",
    "\n",
    "\n",
    "def get_country_code(country_name):\n",
    "    \"\"\"根据指定的国家，返回Pygal使用的两个字母的国别码\"\"\"\n",
    "    for code, name in COUNTRIES.items():\n",
    "        if name == country_name:\n",
    "            return code\n",
    "        # 如果没有找到指定的国家，就返回None\n",
    "    return None\n"
   ],
   "metadata": {
    "collapsed": false,
    "ExecuteTime": {
     "end_time": "2023-07-11T08:08:42.961196Z",
     "start_time": "2023-07-11T08:08:42.956818Z"
    }
   }
  },
  {
   "cell_type": "code",
   "execution_count": 102,
   "outputs": [],
   "source": [
    "def json_handle(filename, new_file):\n",
    "    data = {}\n",
    "    with open(filename) as f:\n",
    "        pop_data = json.load(f)\n",
    "    for pop_dict in pop_data:\n",
    "        if pop_dict['Year'] == '2010':\n",
    "            country_name = pop_dict['Country Name']\n",
    "            population = int(float(pop_dict['Value']))\n",
    "            code = get_country_code(country_name)\n",
    "            if code:\n",
    "                data[code] = population\n",
    "    with open(new_file, 'w') as nf:\n",
    "        json.dump(data, nf)"
   ],
   "metadata": {
    "collapsed": false,
    "ExecuteTime": {
     "end_time": "2023-07-11T08:44:11.736014Z",
     "start_time": "2023-07-11T08:44:11.730785Z"
    }
   }
  },
  {
   "cell_type": "code",
   "execution_count": 103,
   "outputs": [],
   "source": [
    "json_handle('../dataset/population_data.json', '../dataset/new.json')"
   ],
   "metadata": {
    "collapsed": false,
    "ExecuteTime": {
     "end_time": "2023-07-11T08:44:16.283812Z",
     "start_time": "2023-07-11T08:44:16.266992Z"
    }
   }
  },
  {
   "cell_type": "code",
   "execution_count": 74,
   "outputs": [],
   "source": [
    "\n",
    "import pygal_maps_world.maps\n",
    "import pygal.style\n",
    "\n",
    "wm = pygal_maps_world.maps.World()\n",
    "wm.title = 'North, Central, and South America'\n",
    "\n",
    "wm.add('North America', ['ca', 'mx', 'us'])\n",
    "wm.add('Central America', ['bz', 'cr', 'gt', 'hn', 'ni', 'pa', 'sv'])\n",
    "wm.add('South America', ['ar', 'bo', 'br', 'cl', 'co', 'ec', 'gf', 'gy', 'pe', 'py', 'sr',\n",
    "                         'uy', 've'])\n",
    "wm.render_to_file('americas.svg')"
   ],
   "metadata": {
    "collapsed": false,
    "ExecuteTime": {
     "end_time": "2023-07-11T08:01:23.989260Z",
     "start_time": "2023-07-11T08:01:23.956332Z"
    }
   }
  },
  {
   "cell_type": "code",
   "execution_count": 92,
   "outputs": [],
   "source": [
    "from pygal.style import LightColorizedStyle as LCS, RotateStyle as RS\n",
    "\n",
    "\n",
    "def json_draw(filename):\n",
    "    with open(filename) as f:\n",
    "        pop_data = json.load(f)\n",
    "    cc_populations = {}\n",
    "    for pop_dict in pop_data:\n",
    "        if pop_dict['Year'] == '2010':\n",
    "            country = pop_dict['Country Name']\n",
    "            population = int(float(pop_dict['Value']))\n",
    "            code = get_country_code(country)\n",
    "            if code:\n",
    "                cc_populations[code] = population\n",
    "    # 根据人口数量将所有的国家分成三组\n",
    "    cc_pops_1, cc_pops_2, cc_pops_3 = {}, {}, {}\n",
    "    for cc, pop in cc_populations.items():\n",
    "        if pop < 10000000:\n",
    "            cc_pops_1[cc] = pop\n",
    "        elif pop < 1000000000:\n",
    "            cc_pops_2[cc] = pop\n",
    "        else:\n",
    "            cc_pops_3[cc] = pop\n",
    "        # 看看每组分别包含多少个国家\n",
    "        # print(len(cc_pops_1), len(cc_pops_2), len(cc_pops_3))\n",
    "    wm_style = RS('#336699', base_style=LCS)\n",
    "    wm = pygal_maps_world.maps.World(style=wm_style)\n",
    "    # wm = pygal_maps_world.maps.World(style=wm_style)\n",
    "    wm.title = 'World Population in 2010, by Country'\n",
    "    wm.add('0-10m', cc_pops_1)\n",
    "    wm.add('10m-1bn', cc_pops_2)\n",
    "    wm.add('>1bn', cc_pops_3)\n",
    "    wm.render_to_file('world_population.svg')"
   ],
   "metadata": {
    "collapsed": false,
    "ExecuteTime": {
     "end_time": "2023-07-11T08:22:04.622233Z",
     "start_time": "2023-07-11T08:22:04.618745Z"
    }
   }
  },
  {
   "cell_type": "code",
   "execution_count": 93,
   "outputs": [],
   "source": [
    "json_draw(filename=file)"
   ],
   "metadata": {
    "collapsed": false,
    "ExecuteTime": {
     "end_time": "2023-07-11T08:22:05.126924Z",
     "start_time": "2023-07-11T08:22:05.031690Z"
    }
   }
  },
  {
   "cell_type": "code",
   "execution_count": 115,
   "outputs": [
    {
     "name": "stdout",
     "output_type": "stream",
     "text": [
      "1\n"
     ]
    },
    {
     "name": "stderr",
     "output_type": "stream",
     "text": [
      "Traceback (most recent call last):\n",
      "  File \"/var/folders/zv/7_nb_lnx5llfxwncr2x_6tvh0000gn/T/ipykernel_45286/3556240414.py\", line 4, in <module>\n",
      "    data = json.load(f)\n",
      "  File \"/Users/frank/anaconda3/envs/machine_learning/lib/python3.10/json/__init__.py\", line 293, in load\n",
      "    return loads(fp.read(),\n",
      "  File \"/Users/frank/anaconda3/envs/machine_learning/lib/python3.10/json/__init__.py\", line 346, in loads\n",
      "    return _default_decoder.decode(s)\n",
      "  File \"/Users/frank/anaconda3/envs/machine_learning/lib/python3.10/json/decoder.py\", line 337, in decode\n",
      "    obj, end = self.raw_decode(s, idx=_w(s, 0).end())\n",
      "  File \"/Users/frank/anaconda3/envs/machine_learning/lib/python3.10/json/decoder.py\", line 355, in raw_decode\n",
      "    raise JSONDecodeError(\"Expecting value\", s, err.value) from None\n",
      "json.decoder.JSONDecodeError: Expecting value: line 1 column 1 (char 0)\n"
     ]
    }
   ],
   "source": [
    "import traceback\n",
    "\n",
    "with open('../dataset/new.json', 'r') as f:\n",
    "    try:\n",
    "        data = json.load(f)\n",
    "    except Exception as e:\n",
    "        traceback.print_exc()\n",
    "    else:\n",
    "        print(data['al'])\n",
    "    print(1)"
   ],
   "metadata": {
    "collapsed": false,
    "ExecuteTime": {
     "end_time": "2023-07-11T08:50:19.658262Z",
     "start_time": "2023-07-11T08:50:19.652414Z"
    }
   }
  },
  {
   "cell_type": "code",
   "execution_count": null,
   "outputs": [],
   "source": [],
   "metadata": {
    "collapsed": false
   }
  }
 ],
 "metadata": {
  "kernelspec": {
   "display_name": "Python 3",
   "language": "python",
   "name": "python3"
  },
  "language_info": {
   "codemirror_mode": {
    "name": "ipython",
    "version": 2
   },
   "file_extension": ".py",
   "mimetype": "text/x-python",
   "name": "python",
   "nbconvert_exporter": "python",
   "pygments_lexer": "ipython2",
   "version": "2.7.6"
  }
 },
 "nbformat": 4,
 "nbformat_minor": 0
}
