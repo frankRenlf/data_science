{
 "cells": [
  {
   "cell_type": "code",
   "execution_count": 52,
   "metadata": {
    "collapsed": true,
    "ExecuteTime": {
     "end_time": "2023-07-09T04:11:10.270605Z",
     "start_time": "2023-07-09T04:11:10.137329Z"
    }
   },
   "outputs": [],
   "source": [
    "import csv\n",
    "from datetime import datetime\n",
    "import matplotlib.pyplot as plt\n",
    "import numpy as np\n",
    "import matplotlib.dates as mdate\n",
    "import pandas as pd\n",
    "\n",
    "%matplotlib qt5\n"
   ]
  },
  {
   "cell_type": "code",
   "execution_count": 91,
   "outputs": [],
   "source": [
    "import calendar\n",
    "\n",
    "\n",
    "def read_csv_attribute(filename):\n",
    "    with open(filename) as f:\n",
    "        reader = csv.reader(f)\n",
    "        header_row = next(reader)\n",
    "        dates, highs, lows = [], [], []\n",
    "        for row in reader:\n",
    "            current_date = datetime.strptime(row[0], \"%Y-%m-%d\")\n",
    "            dates.append(current_date)\n",
    "            high = int(row[1])\n",
    "            highs.append(high)\n",
    "            low = int(row[3])\n",
    "            lows.append(low)\n",
    "        # 根据数据绘制图形\n",
    "        fig = plt.figure(dpi=128, figsize=(10, 6))\n",
    "        plt.plot(dates, highs, c='red', alpha=0.5)\n",
    "        plt.plot(dates, lows, c='blue', alpha=0.5)\n",
    "        plt.fill_between(dates, highs, lows, facecolor='blue', alpha=0.1)\n",
    "        plt.scatter([dates[0], dates[-1]], [highs[0], highs[-1]], c='black', linewidths=0.1, edgecolor='none')\n",
    "        plt.scatter([dates[0], dates[-1]], [lows[0], lows[-1]], c='black', linewidths=0.1, edgecolor='none')\n",
    "\n",
    "        # ax = plt.gca()  #表明设置图片的各个轴，plt.gcf()表示图片本身\n",
    "        #\n",
    "        # ax.xaxis.set_major_formatter(mdate.DateFormatter('%Y-%m-%d'))\n",
    "        # # 横坐标标签显示的日期格式\n",
    "        #\n",
    "        # plt.xticks(pd.date_range('2014-1-1', '2014-12-22', periods=12))\n",
    "        #横坐标日期范围及间隔\n",
    "        # 等间距取 12 个日期，包括头和尾\n",
    "        step = (len(dates) - 1) // 11\n",
    "        tick_indexes = list(range(0, len(dates), step))\n",
    "        tick_labels = [dates[i].strftime(\"%Y-%m-%d\") for i in tick_indexes]\n",
    "        tick_labels[-1] = dates[-1]\n",
    "        plt.xticks(tick_labels)\n",
    "\n",
    "        # 设置图形的格式\n",
    "        plt.title(\"Daily high and low temperatures - 2014\", fontsize=24)\n",
    "        plt.xlabel('', fontsize=16)\n",
    "        fig.autofmt_xdate()\n",
    "        plt.ylabel(\"Temperature (F)\", fontsize=16)\n",
    "        plt.tick_params(axis='both', which='major', labelsize=16)\n",
    "        plt.show()"
   ],
   "metadata": {
    "collapsed": false,
    "ExecuteTime": {
     "end_time": "2023-07-09T04:35:16.525249Z",
     "start_time": "2023-07-09T04:35:16.523101Z"
    }
   }
  },
  {
   "cell_type": "code",
   "execution_count": 92,
   "outputs": [],
   "source": [
    "file = '../dataset/sitka_weather_2014.csv'\n",
    "read_csv_attribute(file)"
   ],
   "metadata": {
    "collapsed": false,
    "ExecuteTime": {
     "end_time": "2023-07-09T04:35:17.056069Z",
     "start_time": "2023-07-09T04:35:17.010893Z"
    }
   }
  },
  {
   "cell_type": "code",
   "execution_count": null,
   "outputs": [],
   "source": [],
   "metadata": {
    "collapsed": false
   }
  }
 ],
 "metadata": {
  "kernelspec": {
   "display_name": "Python 3",
   "language": "python",
   "name": "python3"
  },
  "language_info": {
   "codemirror_mode": {
    "name": "ipython",
    "version": 2
   },
   "file_extension": ".py",
   "mimetype": "text/x-python",
   "name": "python",
   "nbconvert_exporter": "python",
   "pygments_lexer": "ipython2",
   "version": "2.7.6"
  }
 },
 "nbformat": 4,
 "nbformat_minor": 0
}
