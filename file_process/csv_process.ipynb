{
 "cells": [
  {
   "cell_type": "code",
   "execution_count": 1,
   "metadata": {
    "collapsed": true,
    "ExecuteTime": {
     "end_time": "2023-07-09T16:40:57.154603Z",
     "start_time": "2023-07-09T16:40:56.670492Z"
    }
   },
   "outputs": [],
   "source": [
    "import csv\n",
    "import json\n",
    "from datetime import datetime\n",
    "import matplotlib.pyplot as plt\n",
    "import numpy as np\n",
    "import matplotlib.dates as mdate\n",
    "import pandas as pd\n",
    "\n",
    "%matplotlib qt5\n"
   ]
  },
  {
   "cell_type": "code",
   "execution_count": 10,
   "outputs": [],
   "source": [
    "import calendar\n",
    "\n",
    "\n",
    "def read_csv_attribute(filename):\n",
    "    with open(filename) as f:\n",
    "        reader = csv.reader(f)\n",
    "        header_row = next(reader)\n",
    "        dates, highs, lows = [], [], []\n",
    "        for row in reader:\n",
    "            current_date = datetime.strptime(row[0], \"%Y-%m-%d\")\n",
    "            dates.append(current_date)\n",
    "            high = int(row[1])\n",
    "            highs.append(high)\n",
    "            low = int(row[3])\n",
    "            lows.append(low)\n",
    "        # 根据数据绘制图形\n",
    "    fig = plt.figure(dpi=128, figsize=(10, 6))\n",
    "    plt.plot(dates, highs, c='red', alpha=0.5)\n",
    "    plt.plot(dates, lows, c='blue', alpha=0.5)\n",
    "    plt.fill_between(dates, highs, lows, facecolor='blue', alpha=0.1)\n",
    "    plt.scatter([dates[0], dates[-1]], [highs[0], highs[-1]], c='black', linewidths=0.1, edgecolor='none')\n",
    "    plt.scatter([dates[0], dates[-1]], [lows[0], lows[-1]], c='black', linewidths=0.1, edgecolor='none')\n",
    "\n",
    "    # 等间距取 12 个日期，包括头和尾\n",
    "    step = (len(dates) - 1) // 11\n",
    "    tick_indexes = list(range(0, len(dates), step))\n",
    "    tick_labels = [dates[i].strftime(\"%Y-%m-%d\") for i in tick_indexes]\n",
    "    tick_labels[-1] = dates[-1]\n",
    "    plt.xticks(tick_labels)\n",
    "\n",
    "    # 设置图形的格式\n",
    "    plt.title(\"Daily high and low temperatures - 2014\", fontsize=24)\n",
    "    plt.xlabel('', fontsize=16)\n",
    "    fig.autofmt_xdate()\n",
    "    plt.ylabel(\"Temperature (F)\", fontsize=16)\n",
    "    plt.tick_params(axis='both', which='major', labelsize=16)\n",
    "    plt.show()"
   ],
   "metadata": {
    "collapsed": false,
    "ExecuteTime": {
     "end_time": "2023-07-09T16:43:07.675906Z",
     "start_time": "2023-07-09T16:43:07.672238Z"
    }
   }
  },
  {
   "cell_type": "code",
   "execution_count": 11,
   "outputs": [],
   "source": [
    "file = '../dataset/sitka_weather_2014.csv'\n",
    "read_csv_attribute(file)"
   ],
   "metadata": {
    "collapsed": false,
    "ExecuteTime": {
     "end_time": "2023-07-09T16:43:08.662111Z",
     "start_time": "2023-07-09T16:43:08.630253Z"
    }
   }
  },
  {
   "cell_type": "code",
   "execution_count": 1,
   "outputs": [
    {
     "ename": "NameError",
     "evalue": "name 'json' is not defined",
     "output_type": "error",
     "traceback": [
      "\u001B[0;31m---------------------------------------------------------------------------\u001B[0m",
      "\u001B[0;31mNameError\u001B[0m                                 Traceback (most recent call last)",
      "Cell \u001B[0;32mIn[1], line 2\u001B[0m\n\u001B[1;32m      1\u001B[0m \u001B[38;5;28;01mwith\u001B[39;00m \u001B[38;5;28mopen\u001B[39m(\u001B[38;5;124m'\u001B[39m\u001B[38;5;124m../dataset/new.json\u001B[39m\u001B[38;5;124m'\u001B[39m, \u001B[38;5;124m'\u001B[39m\u001B[38;5;124mw\u001B[39m\u001B[38;5;124m'\u001B[39m) \u001B[38;5;28;01mas\u001B[39;00m f:\n\u001B[0;32m----> 2\u001B[0m     data \u001B[38;5;241m=\u001B[39m \u001B[43mjson\u001B[49m\u001B[38;5;241m.\u001B[39mload(f)\n\u001B[1;32m      3\u001B[0m     \u001B[38;5;28mprint\u001B[39m(data)\n",
      "\u001B[0;31mNameError\u001B[0m: name 'json' is not defined"
     ]
    }
   ],
   "source": [],
   "metadata": {
    "collapsed": false,
    "ExecuteTime": {
     "end_time": "2023-07-11T08:43:12.842261Z",
     "start_time": "2023-07-11T08:43:12.602327Z"
    }
   }
  },
  {
   "cell_type": "code",
   "execution_count": null,
   "outputs": [],
   "source": [],
   "metadata": {
    "collapsed": false
   }
  }
 ],
 "metadata": {
  "kernelspec": {
   "display_name": "Python 3",
   "language": "python",
   "name": "python3"
  },
  "language_info": {
   "codemirror_mode": {
    "name": "ipython",
    "version": 2
   },
   "file_extension": ".py",
   "mimetype": "text/x-python",
   "name": "python",
   "nbconvert_exporter": "python",
   "pygments_lexer": "ipython2",
   "version": "2.7.6"
  }
 },
 "nbformat": 4,
 "nbformat_minor": 0
}
